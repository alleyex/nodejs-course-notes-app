{
  "nbformat": 4,
  "nbformat_minor": 0,
  "metadata": {
    "colab": {
      "provenance": [],
      "authorship_tag": "ABX9TyN+kGCjYbb0xnQWHjG65IQl",
      "include_colab_link": true
    },
    "kernelspec": {
      "name": "python3",
      "display_name": "Python 3"
    },
    "language_info": {
      "name": "python"
    }
  },
  "cells": [
    {
      "cell_type": "markdown",
      "metadata": {
        "id": "view-in-github",
        "colab_type": "text"
      },
      "source": [
        "<a href=\"https://colab.research.google.com/github/alleyex/nodejs-course-notes-app/blob/master/variable_magnitude_.ipynb\" target=\"_parent\"><img src=\"https://colab.research.google.com/assets/colab-badge.svg\" alt=\"Open In Colab\"/></a>"
      ]
    },
    {
      "cell_type": "code",
      "execution_count": 1,
      "metadata": {
        "id": "wjWPHi4sKlOZ"
      },
      "outputs": [],
      "source": [
        "import pandas as pd\n",
        "\n",
        "# import several machine learning algorithms\n",
        "from sklearn.linear_model import LogisticRegression\n",
        "from sklearn.ensemble import AdaBoostClassifier\n",
        "from sklearn.ensemble import RandomForestClassifier\n",
        "from sklearn.svm import SVC\n",
        "from sklearn.neural_network import MLPClassifier\n",
        "from sklearn.neighbors import KNeighborsClassifier\n",
        "\n",
        "# to scale the features\n",
        "from sklearn.preprocessing import MinMaxScaler\n",
        "\n",
        "# to evaluate performance and separate into\n",
        "# train and test set\n",
        "from sklearn.metrics import roc_auc_score\n",
        "from sklearn.model_selection import train_test_split"
      ]
    },
    {
      "cell_type": "code",
      "source": [
        "import os\n",
        "\n",
        "files = [\"titanic.csv\",\"loan.csv\"]\n",
        "for file in files:\n",
        "  if not os.path.exists(file):\n",
        "    !wget \"https://raw.githubusercontent.com/solegalli/feature-engineering-for-machine-learning/main/Datasets/{file}\"\n",
        "    print(f\"Downloaded {file}\")\n",
        "  else:\n",
        "    print(f\"{file} already exists\")"
      ],
      "metadata": {
        "colab": {
          "base_uri": "https://localhost:8080/"
        },
        "id": "9NwWmherK5MX",
        "outputId": "2a627f8e-4d04-415d-85b9-d94ffebac464"
      },
      "execution_count": 3,
      "outputs": [
        {
          "output_type": "stream",
          "name": "stdout",
          "text": [
            "--2024-06-11 07:20:40--  https://raw.githubusercontent.com/solegalli/feature-engineering-for-machine-learning/main/Datasets/titanic.csv\n",
            "Resolving raw.githubusercontent.com (raw.githubusercontent.com)... 185.199.108.133, 185.199.109.133, 185.199.110.133, ...\n",
            "Connecting to raw.githubusercontent.com (raw.githubusercontent.com)|185.199.108.133|:443... connected.\n",
            "HTTP request sent, awaiting response... 200 OK\n",
            "Length: 104076 (102K) [text/plain]\n",
            "Saving to: ‘titanic.csv’\n",
            "\n",
            "titanic.csv         100%[===================>] 101.64K  --.-KB/s    in 0.02s   \n",
            "\n",
            "2024-06-11 07:20:40 (4.32 MB/s) - ‘titanic.csv’ saved [104076/104076]\n",
            "\n",
            "Downloaded titanic.csv\n",
            "--2024-06-11 07:20:40--  https://raw.githubusercontent.com/solegalli/feature-engineering-for-machine-learning/main/Datasets/loan.csv\n",
            "Resolving raw.githubusercontent.com (raw.githubusercontent.com)... 185.199.108.133, 185.199.109.133, 185.199.110.133, ...\n",
            "Connecting to raw.githubusercontent.com (raw.githubusercontent.com)|185.199.108.133|:443... connected.\n",
            "HTTP request sent, awaiting response... 200 OK\n",
            "Length: 1059576 (1.0M) [text/plain]\n",
            "Saving to: ‘loan.csv’\n",
            "\n",
            "loan.csv            100%[===================>]   1.01M  --.-KB/s    in 0.06s   \n",
            "\n",
            "2024-06-11 07:20:41 (16.2 MB/s) - ‘loan.csv’ saved [1059576/1059576]\n",
            "\n",
            "Downloaded loan.csv\n"
          ]
        }
      ]
    },
    {
      "cell_type": "code",
      "source": [
        "# Load numerical variables of the Titanic Dataset\n",
        "\n",
        "data = pd.read_csv('titanic.csv',\n",
        "                   usecols=['pclass', 'age', 'fare', 'survived'])\n",
        "data.head()"
      ],
      "metadata": {
        "colab": {
          "base_uri": "https://localhost:8080/",
          "height": 206
        },
        "id": "PONJHjMHKpl4",
        "outputId": "34478fff-6457-46f4-b879-7a3cf1ff88db"
      },
      "execution_count": 4,
      "outputs": [
        {
          "output_type": "execute_result",
          "data": {
            "text/plain": [
              "   pclass  survived      age      fare\n",
              "0       1         1  29.0000  211.3375\n",
              "1       1         1   0.9167  151.5500\n",
              "2       1         0   2.0000  151.5500\n",
              "3       1         0  30.0000  151.5500\n",
              "4       1         0  25.0000  151.5500"
            ],
            "text/html": [
              "\n",
              "  <div id=\"df-65fa1d9d-2417-490a-aa72-6d9ab9d87008\" class=\"colab-df-container\">\n",
              "    <div>\n",
              "<style scoped>\n",
              "    .dataframe tbody tr th:only-of-type {\n",
              "        vertical-align: middle;\n",
              "    }\n",
              "\n",
              "    .dataframe tbody tr th {\n",
              "        vertical-align: top;\n",
              "    }\n",
              "\n",
              "    .dataframe thead th {\n",
              "        text-align: right;\n",
              "    }\n",
              "</style>\n",
              "<table border=\"1\" class=\"dataframe\">\n",
              "  <thead>\n",
              "    <tr style=\"text-align: right;\">\n",
              "      <th></th>\n",
              "      <th>pclass</th>\n",
              "      <th>survived</th>\n",
              "      <th>age</th>\n",
              "      <th>fare</th>\n",
              "    </tr>\n",
              "  </thead>\n",
              "  <tbody>\n",
              "    <tr>\n",
              "      <th>0</th>\n",
              "      <td>1</td>\n",
              "      <td>1</td>\n",
              "      <td>29.0000</td>\n",
              "      <td>211.3375</td>\n",
              "    </tr>\n",
              "    <tr>\n",
              "      <th>1</th>\n",
              "      <td>1</td>\n",
              "      <td>1</td>\n",
              "      <td>0.9167</td>\n",
              "      <td>151.5500</td>\n",
              "    </tr>\n",
              "    <tr>\n",
              "      <th>2</th>\n",
              "      <td>1</td>\n",
              "      <td>0</td>\n",
              "      <td>2.0000</td>\n",
              "      <td>151.5500</td>\n",
              "    </tr>\n",
              "    <tr>\n",
              "      <th>3</th>\n",
              "      <td>1</td>\n",
              "      <td>0</td>\n",
              "      <td>30.0000</td>\n",
              "      <td>151.5500</td>\n",
              "    </tr>\n",
              "    <tr>\n",
              "      <th>4</th>\n",
              "      <td>1</td>\n",
              "      <td>0</td>\n",
              "      <td>25.0000</td>\n",
              "      <td>151.5500</td>\n",
              "    </tr>\n",
              "  </tbody>\n",
              "</table>\n",
              "</div>\n",
              "    <div class=\"colab-df-buttons\">\n",
              "\n",
              "  <div class=\"colab-df-container\">\n",
              "    <button class=\"colab-df-convert\" onclick=\"convertToInteractive('df-65fa1d9d-2417-490a-aa72-6d9ab9d87008')\"\n",
              "            title=\"Convert this dataframe to an interactive table.\"\n",
              "            style=\"display:none;\">\n",
              "\n",
              "  <svg xmlns=\"http://www.w3.org/2000/svg\" height=\"24px\" viewBox=\"0 -960 960 960\">\n",
              "    <path d=\"M120-120v-720h720v720H120Zm60-500h600v-160H180v160Zm220 220h160v-160H400v160Zm0 220h160v-160H400v160ZM180-400h160v-160H180v160Zm440 0h160v-160H620v160ZM180-180h160v-160H180v160Zm440 0h160v-160H620v160Z\"/>\n",
              "  </svg>\n",
              "    </button>\n",
              "\n",
              "  <style>\n",
              "    .colab-df-container {\n",
              "      display:flex;\n",
              "      gap: 12px;\n",
              "    }\n",
              "\n",
              "    .colab-df-convert {\n",
              "      background-color: #E8F0FE;\n",
              "      border: none;\n",
              "      border-radius: 50%;\n",
              "      cursor: pointer;\n",
              "      display: none;\n",
              "      fill: #1967D2;\n",
              "      height: 32px;\n",
              "      padding: 0 0 0 0;\n",
              "      width: 32px;\n",
              "    }\n",
              "\n",
              "    .colab-df-convert:hover {\n",
              "      background-color: #E2EBFA;\n",
              "      box-shadow: 0px 1px 2px rgba(60, 64, 67, 0.3), 0px 1px 3px 1px rgba(60, 64, 67, 0.15);\n",
              "      fill: #174EA6;\n",
              "    }\n",
              "\n",
              "    .colab-df-buttons div {\n",
              "      margin-bottom: 4px;\n",
              "    }\n",
              "\n",
              "    [theme=dark] .colab-df-convert {\n",
              "      background-color: #3B4455;\n",
              "      fill: #D2E3FC;\n",
              "    }\n",
              "\n",
              "    [theme=dark] .colab-df-convert:hover {\n",
              "      background-color: #434B5C;\n",
              "      box-shadow: 0px 1px 3px 1px rgba(0, 0, 0, 0.15);\n",
              "      filter: drop-shadow(0px 1px 2px rgba(0, 0, 0, 0.3));\n",
              "      fill: #FFFFFF;\n",
              "    }\n",
              "  </style>\n",
              "\n",
              "    <script>\n",
              "      const buttonEl =\n",
              "        document.querySelector('#df-65fa1d9d-2417-490a-aa72-6d9ab9d87008 button.colab-df-convert');\n",
              "      buttonEl.style.display =\n",
              "        google.colab.kernel.accessAllowed ? 'block' : 'none';\n",
              "\n",
              "      async function convertToInteractive(key) {\n",
              "        const element = document.querySelector('#df-65fa1d9d-2417-490a-aa72-6d9ab9d87008');\n",
              "        const dataTable =\n",
              "          await google.colab.kernel.invokeFunction('convertToInteractive',\n",
              "                                                    [key], {});\n",
              "        if (!dataTable) return;\n",
              "\n",
              "        const docLinkHtml = 'Like what you see? Visit the ' +\n",
              "          '<a target=\"_blank\" href=https://colab.research.google.com/notebooks/data_table.ipynb>data table notebook</a>'\n",
              "          + ' to learn more about interactive tables.';\n",
              "        element.innerHTML = '';\n",
              "        dataTable['output_type'] = 'display_data';\n",
              "        await google.colab.output.renderOutput(dataTable, element);\n",
              "        const docLink = document.createElement('div');\n",
              "        docLink.innerHTML = docLinkHtml;\n",
              "        element.appendChild(docLink);\n",
              "      }\n",
              "    </script>\n",
              "  </div>\n",
              "\n",
              "\n",
              "<div id=\"df-208cc8d0-6c76-4805-afc6-8a62731a6937\">\n",
              "  <button class=\"colab-df-quickchart\" onclick=\"quickchart('df-208cc8d0-6c76-4805-afc6-8a62731a6937')\"\n",
              "            title=\"Suggest charts\"\n",
              "            style=\"display:none;\">\n",
              "\n",
              "<svg xmlns=\"http://www.w3.org/2000/svg\" height=\"24px\"viewBox=\"0 0 24 24\"\n",
              "     width=\"24px\">\n",
              "    <g>\n",
              "        <path d=\"M19 3H5c-1.1 0-2 .9-2 2v14c0 1.1.9 2 2 2h14c1.1 0 2-.9 2-2V5c0-1.1-.9-2-2-2zM9 17H7v-7h2v7zm4 0h-2V7h2v10zm4 0h-2v-4h2v4z\"/>\n",
              "    </g>\n",
              "</svg>\n",
              "  </button>\n",
              "\n",
              "<style>\n",
              "  .colab-df-quickchart {\n",
              "      --bg-color: #E8F0FE;\n",
              "      --fill-color: #1967D2;\n",
              "      --hover-bg-color: #E2EBFA;\n",
              "      --hover-fill-color: #174EA6;\n",
              "      --disabled-fill-color: #AAA;\n",
              "      --disabled-bg-color: #DDD;\n",
              "  }\n",
              "\n",
              "  [theme=dark] .colab-df-quickchart {\n",
              "      --bg-color: #3B4455;\n",
              "      --fill-color: #D2E3FC;\n",
              "      --hover-bg-color: #434B5C;\n",
              "      --hover-fill-color: #FFFFFF;\n",
              "      --disabled-bg-color: #3B4455;\n",
              "      --disabled-fill-color: #666;\n",
              "  }\n",
              "\n",
              "  .colab-df-quickchart {\n",
              "    background-color: var(--bg-color);\n",
              "    border: none;\n",
              "    border-radius: 50%;\n",
              "    cursor: pointer;\n",
              "    display: none;\n",
              "    fill: var(--fill-color);\n",
              "    height: 32px;\n",
              "    padding: 0;\n",
              "    width: 32px;\n",
              "  }\n",
              "\n",
              "  .colab-df-quickchart:hover {\n",
              "    background-color: var(--hover-bg-color);\n",
              "    box-shadow: 0 1px 2px rgba(60, 64, 67, 0.3), 0 1px 3px 1px rgba(60, 64, 67, 0.15);\n",
              "    fill: var(--button-hover-fill-color);\n",
              "  }\n",
              "\n",
              "  .colab-df-quickchart-complete:disabled,\n",
              "  .colab-df-quickchart-complete:disabled:hover {\n",
              "    background-color: var(--disabled-bg-color);\n",
              "    fill: var(--disabled-fill-color);\n",
              "    box-shadow: none;\n",
              "  }\n",
              "\n",
              "  .colab-df-spinner {\n",
              "    border: 2px solid var(--fill-color);\n",
              "    border-color: transparent;\n",
              "    border-bottom-color: var(--fill-color);\n",
              "    animation:\n",
              "      spin 1s steps(1) infinite;\n",
              "  }\n",
              "\n",
              "  @keyframes spin {\n",
              "    0% {\n",
              "      border-color: transparent;\n",
              "      border-bottom-color: var(--fill-color);\n",
              "      border-left-color: var(--fill-color);\n",
              "    }\n",
              "    20% {\n",
              "      border-color: transparent;\n",
              "      border-left-color: var(--fill-color);\n",
              "      border-top-color: var(--fill-color);\n",
              "    }\n",
              "    30% {\n",
              "      border-color: transparent;\n",
              "      border-left-color: var(--fill-color);\n",
              "      border-top-color: var(--fill-color);\n",
              "      border-right-color: var(--fill-color);\n",
              "    }\n",
              "    40% {\n",
              "      border-color: transparent;\n",
              "      border-right-color: var(--fill-color);\n",
              "      border-top-color: var(--fill-color);\n",
              "    }\n",
              "    60% {\n",
              "      border-color: transparent;\n",
              "      border-right-color: var(--fill-color);\n",
              "    }\n",
              "    80% {\n",
              "      border-color: transparent;\n",
              "      border-right-color: var(--fill-color);\n",
              "      border-bottom-color: var(--fill-color);\n",
              "    }\n",
              "    90% {\n",
              "      border-color: transparent;\n",
              "      border-bottom-color: var(--fill-color);\n",
              "    }\n",
              "  }\n",
              "</style>\n",
              "\n",
              "  <script>\n",
              "    async function quickchart(key) {\n",
              "      const quickchartButtonEl =\n",
              "        document.querySelector('#' + key + ' button');\n",
              "      quickchartButtonEl.disabled = true;  // To prevent multiple clicks.\n",
              "      quickchartButtonEl.classList.add('colab-df-spinner');\n",
              "      try {\n",
              "        const charts = await google.colab.kernel.invokeFunction(\n",
              "            'suggestCharts', [key], {});\n",
              "      } catch (error) {\n",
              "        console.error('Error during call to suggestCharts:', error);\n",
              "      }\n",
              "      quickchartButtonEl.classList.remove('colab-df-spinner');\n",
              "      quickchartButtonEl.classList.add('colab-df-quickchart-complete');\n",
              "    }\n",
              "    (() => {\n",
              "      let quickchartButtonEl =\n",
              "        document.querySelector('#df-208cc8d0-6c76-4805-afc6-8a62731a6937 button');\n",
              "      quickchartButtonEl.style.display =\n",
              "        google.colab.kernel.accessAllowed ? 'block' : 'none';\n",
              "    })();\n",
              "  </script>\n",
              "</div>\n",
              "\n",
              "    </div>\n",
              "  </div>\n"
            ],
            "application/vnd.google.colaboratory.intrinsic+json": {
              "type": "dataframe",
              "variable_name": "data",
              "summary": "{\n  \"name\": \"data\",\n  \"rows\": 1309,\n  \"fields\": [\n    {\n      \"column\": \"pclass\",\n      \"properties\": {\n        \"dtype\": \"number\",\n        \"std\": 0,\n        \"min\": 1,\n        \"max\": 3,\n        \"num_unique_values\": 3,\n        \"samples\": [\n          1,\n          2,\n          3\n        ],\n        \"semantic_type\": \"\",\n        \"description\": \"\"\n      }\n    },\n    {\n      \"column\": \"survived\",\n      \"properties\": {\n        \"dtype\": \"number\",\n        \"std\": 0,\n        \"min\": 0,\n        \"max\": 1,\n        \"num_unique_values\": 2,\n        \"samples\": [\n          0,\n          1\n        ],\n        \"semantic_type\": \"\",\n        \"description\": \"\"\n      }\n    },\n    {\n      \"column\": \"age\",\n      \"properties\": {\n        \"dtype\": \"number\",\n        \"std\": 14.413499699923602,\n        \"min\": 0.1667,\n        \"max\": 80.0,\n        \"num_unique_values\": 98,\n        \"samples\": [\n          57.0,\n          55.0\n        ],\n        \"semantic_type\": \"\",\n        \"description\": \"\"\n      }\n    },\n    {\n      \"column\": \"fare\",\n      \"properties\": {\n        \"dtype\": \"number\",\n        \"std\": 51.75866823917411,\n        \"min\": 0.0,\n        \"max\": 512.3292,\n        \"num_unique_values\": 281,\n        \"samples\": [\n          5.0,\n          9.35\n        ],\n        \"semantic_type\": \"\",\n        \"description\": \"\"\n      }\n    }\n  ]\n}"
            }
          },
          "metadata": {},
          "execution_count": 4
        }
      ]
    },
    {
      "cell_type": "code",
      "source": [
        "# Let's have a look at the variables' values and\n",
        "# compare the feature magnitudes.\n",
        "\n",
        "data.describe()"
      ],
      "metadata": {
        "colab": {
          "base_uri": "https://localhost:8080/",
          "height": 300
        },
        "id": "cGrTJPlbK_I1",
        "outputId": "3241f1a3-0d3f-4629-a9b2-80397e8b877b"
      },
      "execution_count": 5,
      "outputs": [
        {
          "output_type": "execute_result",
          "data": {
            "text/plain": [
              "            pclass     survived          age         fare\n",
              "count  1309.000000  1309.000000  1046.000000  1308.000000\n",
              "mean      2.294882     0.381971    29.881135    33.295479\n",
              "std       0.837836     0.486055    14.413500    51.758668\n",
              "min       1.000000     0.000000     0.166700     0.000000\n",
              "25%       2.000000     0.000000    21.000000     7.895800\n",
              "50%       3.000000     0.000000    28.000000    14.454200\n",
              "75%       3.000000     1.000000    39.000000    31.275000\n",
              "max       3.000000     1.000000    80.000000   512.329200"
            ],
            "text/html": [
              "\n",
              "  <div id=\"df-b7ee6526-0a42-4dba-b9f0-b1a925770869\" class=\"colab-df-container\">\n",
              "    <div>\n",
              "<style scoped>\n",
              "    .dataframe tbody tr th:only-of-type {\n",
              "        vertical-align: middle;\n",
              "    }\n",
              "\n",
              "    .dataframe tbody tr th {\n",
              "        vertical-align: top;\n",
              "    }\n",
              "\n",
              "    .dataframe thead th {\n",
              "        text-align: right;\n",
              "    }\n",
              "</style>\n",
              "<table border=\"1\" class=\"dataframe\">\n",
              "  <thead>\n",
              "    <tr style=\"text-align: right;\">\n",
              "      <th></th>\n",
              "      <th>pclass</th>\n",
              "      <th>survived</th>\n",
              "      <th>age</th>\n",
              "      <th>fare</th>\n",
              "    </tr>\n",
              "  </thead>\n",
              "  <tbody>\n",
              "    <tr>\n",
              "      <th>count</th>\n",
              "      <td>1309.000000</td>\n",
              "      <td>1309.000000</td>\n",
              "      <td>1046.000000</td>\n",
              "      <td>1308.000000</td>\n",
              "    </tr>\n",
              "    <tr>\n",
              "      <th>mean</th>\n",
              "      <td>2.294882</td>\n",
              "      <td>0.381971</td>\n",
              "      <td>29.881135</td>\n",
              "      <td>33.295479</td>\n",
              "    </tr>\n",
              "    <tr>\n",
              "      <th>std</th>\n",
              "      <td>0.837836</td>\n",
              "      <td>0.486055</td>\n",
              "      <td>14.413500</td>\n",
              "      <td>51.758668</td>\n",
              "    </tr>\n",
              "    <tr>\n",
              "      <th>min</th>\n",
              "      <td>1.000000</td>\n",
              "      <td>0.000000</td>\n",
              "      <td>0.166700</td>\n",
              "      <td>0.000000</td>\n",
              "    </tr>\n",
              "    <tr>\n",
              "      <th>25%</th>\n",
              "      <td>2.000000</td>\n",
              "      <td>0.000000</td>\n",
              "      <td>21.000000</td>\n",
              "      <td>7.895800</td>\n",
              "    </tr>\n",
              "    <tr>\n",
              "      <th>50%</th>\n",
              "      <td>3.000000</td>\n",
              "      <td>0.000000</td>\n",
              "      <td>28.000000</td>\n",
              "      <td>14.454200</td>\n",
              "    </tr>\n",
              "    <tr>\n",
              "      <th>75%</th>\n",
              "      <td>3.000000</td>\n",
              "      <td>1.000000</td>\n",
              "      <td>39.000000</td>\n",
              "      <td>31.275000</td>\n",
              "    </tr>\n",
              "    <tr>\n",
              "      <th>max</th>\n",
              "      <td>3.000000</td>\n",
              "      <td>1.000000</td>\n",
              "      <td>80.000000</td>\n",
              "      <td>512.329200</td>\n",
              "    </tr>\n",
              "  </tbody>\n",
              "</table>\n",
              "</div>\n",
              "    <div class=\"colab-df-buttons\">\n",
              "\n",
              "  <div class=\"colab-df-container\">\n",
              "    <button class=\"colab-df-convert\" onclick=\"convertToInteractive('df-b7ee6526-0a42-4dba-b9f0-b1a925770869')\"\n",
              "            title=\"Convert this dataframe to an interactive table.\"\n",
              "            style=\"display:none;\">\n",
              "\n",
              "  <svg xmlns=\"http://www.w3.org/2000/svg\" height=\"24px\" viewBox=\"0 -960 960 960\">\n",
              "    <path d=\"M120-120v-720h720v720H120Zm60-500h600v-160H180v160Zm220 220h160v-160H400v160Zm0 220h160v-160H400v160ZM180-400h160v-160H180v160Zm440 0h160v-160H620v160ZM180-180h160v-160H180v160Zm440 0h160v-160H620v160Z\"/>\n",
              "  </svg>\n",
              "    </button>\n",
              "\n",
              "  <style>\n",
              "    .colab-df-container {\n",
              "      display:flex;\n",
              "      gap: 12px;\n",
              "    }\n",
              "\n",
              "    .colab-df-convert {\n",
              "      background-color: #E8F0FE;\n",
              "      border: none;\n",
              "      border-radius: 50%;\n",
              "      cursor: pointer;\n",
              "      display: none;\n",
              "      fill: #1967D2;\n",
              "      height: 32px;\n",
              "      padding: 0 0 0 0;\n",
              "      width: 32px;\n",
              "    }\n",
              "\n",
              "    .colab-df-convert:hover {\n",
              "      background-color: #E2EBFA;\n",
              "      box-shadow: 0px 1px 2px rgba(60, 64, 67, 0.3), 0px 1px 3px 1px rgba(60, 64, 67, 0.15);\n",
              "      fill: #174EA6;\n",
              "    }\n",
              "\n",
              "    .colab-df-buttons div {\n",
              "      margin-bottom: 4px;\n",
              "    }\n",
              "\n",
              "    [theme=dark] .colab-df-convert {\n",
              "      background-color: #3B4455;\n",
              "      fill: #D2E3FC;\n",
              "    }\n",
              "\n",
              "    [theme=dark] .colab-df-convert:hover {\n",
              "      background-color: #434B5C;\n",
              "      box-shadow: 0px 1px 3px 1px rgba(0, 0, 0, 0.15);\n",
              "      filter: drop-shadow(0px 1px 2px rgba(0, 0, 0, 0.3));\n",
              "      fill: #FFFFFF;\n",
              "    }\n",
              "  </style>\n",
              "\n",
              "    <script>\n",
              "      const buttonEl =\n",
              "        document.querySelector('#df-b7ee6526-0a42-4dba-b9f0-b1a925770869 button.colab-df-convert');\n",
              "      buttonEl.style.display =\n",
              "        google.colab.kernel.accessAllowed ? 'block' : 'none';\n",
              "\n",
              "      async function convertToInteractive(key) {\n",
              "        const element = document.querySelector('#df-b7ee6526-0a42-4dba-b9f0-b1a925770869');\n",
              "        const dataTable =\n",
              "          await google.colab.kernel.invokeFunction('convertToInteractive',\n",
              "                                                    [key], {});\n",
              "        if (!dataTable) return;\n",
              "\n",
              "        const docLinkHtml = 'Like what you see? Visit the ' +\n",
              "          '<a target=\"_blank\" href=https://colab.research.google.com/notebooks/data_table.ipynb>data table notebook</a>'\n",
              "          + ' to learn more about interactive tables.';\n",
              "        element.innerHTML = '';\n",
              "        dataTable['output_type'] = 'display_data';\n",
              "        await google.colab.output.renderOutput(dataTable, element);\n",
              "        const docLink = document.createElement('div');\n",
              "        docLink.innerHTML = docLinkHtml;\n",
              "        element.appendChild(docLink);\n",
              "      }\n",
              "    </script>\n",
              "  </div>\n",
              "\n",
              "\n",
              "<div id=\"df-9eeb4391-e269-4bf2-89ab-144f019ee1c1\">\n",
              "  <button class=\"colab-df-quickchart\" onclick=\"quickchart('df-9eeb4391-e269-4bf2-89ab-144f019ee1c1')\"\n",
              "            title=\"Suggest charts\"\n",
              "            style=\"display:none;\">\n",
              "\n",
              "<svg xmlns=\"http://www.w3.org/2000/svg\" height=\"24px\"viewBox=\"0 0 24 24\"\n",
              "     width=\"24px\">\n",
              "    <g>\n",
              "        <path d=\"M19 3H5c-1.1 0-2 .9-2 2v14c0 1.1.9 2 2 2h14c1.1 0 2-.9 2-2V5c0-1.1-.9-2-2-2zM9 17H7v-7h2v7zm4 0h-2V7h2v10zm4 0h-2v-4h2v4z\"/>\n",
              "    </g>\n",
              "</svg>\n",
              "  </button>\n",
              "\n",
              "<style>\n",
              "  .colab-df-quickchart {\n",
              "      --bg-color: #E8F0FE;\n",
              "      --fill-color: #1967D2;\n",
              "      --hover-bg-color: #E2EBFA;\n",
              "      --hover-fill-color: #174EA6;\n",
              "      --disabled-fill-color: #AAA;\n",
              "      --disabled-bg-color: #DDD;\n",
              "  }\n",
              "\n",
              "  [theme=dark] .colab-df-quickchart {\n",
              "      --bg-color: #3B4455;\n",
              "      --fill-color: #D2E3FC;\n",
              "      --hover-bg-color: #434B5C;\n",
              "      --hover-fill-color: #FFFFFF;\n",
              "      --disabled-bg-color: #3B4455;\n",
              "      --disabled-fill-color: #666;\n",
              "  }\n",
              "\n",
              "  .colab-df-quickchart {\n",
              "    background-color: var(--bg-color);\n",
              "    border: none;\n",
              "    border-radius: 50%;\n",
              "    cursor: pointer;\n",
              "    display: none;\n",
              "    fill: var(--fill-color);\n",
              "    height: 32px;\n",
              "    padding: 0;\n",
              "    width: 32px;\n",
              "  }\n",
              "\n",
              "  .colab-df-quickchart:hover {\n",
              "    background-color: var(--hover-bg-color);\n",
              "    box-shadow: 0 1px 2px rgba(60, 64, 67, 0.3), 0 1px 3px 1px rgba(60, 64, 67, 0.15);\n",
              "    fill: var(--button-hover-fill-color);\n",
              "  }\n",
              "\n",
              "  .colab-df-quickchart-complete:disabled,\n",
              "  .colab-df-quickchart-complete:disabled:hover {\n",
              "    background-color: var(--disabled-bg-color);\n",
              "    fill: var(--disabled-fill-color);\n",
              "    box-shadow: none;\n",
              "  }\n",
              "\n",
              "  .colab-df-spinner {\n",
              "    border: 2px solid var(--fill-color);\n",
              "    border-color: transparent;\n",
              "    border-bottom-color: var(--fill-color);\n",
              "    animation:\n",
              "      spin 1s steps(1) infinite;\n",
              "  }\n",
              "\n",
              "  @keyframes spin {\n",
              "    0% {\n",
              "      border-color: transparent;\n",
              "      border-bottom-color: var(--fill-color);\n",
              "      border-left-color: var(--fill-color);\n",
              "    }\n",
              "    20% {\n",
              "      border-color: transparent;\n",
              "      border-left-color: var(--fill-color);\n",
              "      border-top-color: var(--fill-color);\n",
              "    }\n",
              "    30% {\n",
              "      border-color: transparent;\n",
              "      border-left-color: var(--fill-color);\n",
              "      border-top-color: var(--fill-color);\n",
              "      border-right-color: var(--fill-color);\n",
              "    }\n",
              "    40% {\n",
              "      border-color: transparent;\n",
              "      border-right-color: var(--fill-color);\n",
              "      border-top-color: var(--fill-color);\n",
              "    }\n",
              "    60% {\n",
              "      border-color: transparent;\n",
              "      border-right-color: var(--fill-color);\n",
              "    }\n",
              "    80% {\n",
              "      border-color: transparent;\n",
              "      border-right-color: var(--fill-color);\n",
              "      border-bottom-color: var(--fill-color);\n",
              "    }\n",
              "    90% {\n",
              "      border-color: transparent;\n",
              "      border-bottom-color: var(--fill-color);\n",
              "    }\n",
              "  }\n",
              "</style>\n",
              "\n",
              "  <script>\n",
              "    async function quickchart(key) {\n",
              "      const quickchartButtonEl =\n",
              "        document.querySelector('#' + key + ' button');\n",
              "      quickchartButtonEl.disabled = true;  // To prevent multiple clicks.\n",
              "      quickchartButtonEl.classList.add('colab-df-spinner');\n",
              "      try {\n",
              "        const charts = await google.colab.kernel.invokeFunction(\n",
              "            'suggestCharts', [key], {});\n",
              "      } catch (error) {\n",
              "        console.error('Error during call to suggestCharts:', error);\n",
              "      }\n",
              "      quickchartButtonEl.classList.remove('colab-df-spinner');\n",
              "      quickchartButtonEl.classList.add('colab-df-quickchart-complete');\n",
              "    }\n",
              "    (() => {\n",
              "      let quickchartButtonEl =\n",
              "        document.querySelector('#df-9eeb4391-e269-4bf2-89ab-144f019ee1c1 button');\n",
              "      quickchartButtonEl.style.display =\n",
              "        google.colab.kernel.accessAllowed ? 'block' : 'none';\n",
              "    })();\n",
              "  </script>\n",
              "</div>\n",
              "\n",
              "    </div>\n",
              "  </div>\n"
            ],
            "application/vnd.google.colaboratory.intrinsic+json": {
              "type": "dataframe",
              "summary": "{\n  \"name\": \"data\",\n  \"rows\": 8,\n  \"fields\": [\n    {\n      \"column\": \"pclass\",\n      \"properties\": {\n        \"dtype\": \"number\",\n        \"std\": 462.03788291201516,\n        \"min\": 0.8378360189701274,\n        \"max\": 1309.0,\n        \"num_unique_values\": 6,\n        \"samples\": [\n          1309.0,\n          2.294881588999236,\n          3.0\n        ],\n        \"semantic_type\": \"\",\n        \"description\": \"\"\n      }\n    },\n    {\n      \"column\": \"survived\",\n      \"properties\": {\n        \"dtype\": \"number\",\n        \"std\": 462.6567174482674,\n        \"min\": 0.0,\n        \"max\": 1309.0,\n        \"num_unique_values\": 5,\n        \"samples\": [\n          0.3819709702062643,\n          1.0,\n          0.4860551708664827\n        ],\n        \"semantic_type\": \"\",\n        \"description\": \"\"\n      }\n    },\n    {\n      \"column\": \"age\",\n      \"properties\": {\n        \"dtype\": \"number\",\n        \"std\": 359.84064781685913,\n        \"min\": 0.1667,\n        \"max\": 1046.0,\n        \"num_unique_values\": 8,\n        \"samples\": [\n          29.8811345124283,\n          28.0,\n          1046.0\n        ],\n        \"semantic_type\": \"\",\n        \"description\": \"\"\n      }\n    },\n    {\n      \"column\": \"fare\",\n      \"properties\": {\n        \"dtype\": \"number\",\n        \"std\": 462.70446257758823,\n        \"min\": 0.0,\n        \"max\": 1308.0,\n        \"num_unique_values\": 8,\n        \"samples\": [\n          33.29547928134557,\n          14.4542,\n          1308.0\n        ],\n        \"semantic_type\": \"\",\n        \"description\": \"\"\n      }\n    }\n  ]\n}"
            }
          },
          "metadata": {},
          "execution_count": 5
        }
      ]
    },
    {
      "cell_type": "code",
      "source": [
        "# Let's calculate the range.\n",
        "\n",
        "for col in ['pclass', 'age', 'fare']:\n",
        "    print(col, 'range: ', data[col].max() - data[col].min())"
      ],
      "metadata": {
        "colab": {
          "base_uri": "https://localhost:8080/"
        },
        "id": "WoPXZGEaLcK0",
        "outputId": "52c07030-226c-4007-ec44-ba1f98157df1"
      },
      "execution_count": 6,
      "outputs": [
        {
          "output_type": "stream",
          "name": "stdout",
          "text": [
            "pclass range:  2\n",
            "age range:  79.8333\n",
            "fare range:  512.3292\n"
          ]
        }
      ]
    },
    {
      "cell_type": "code",
      "source": [
        "# Let's separate the data into training and testing sets.\n",
        "\n",
        "# The titanic dataset contains missing information.\n",
        "# For this demo, I will fill in those values with 0s.\n",
        "\n",
        "X_train, X_test, y_train, y_test = train_test_split(\n",
        "    data[['pclass', 'age', 'fare']].fillna(0),\n",
        "    data.survived,\n",
        "    test_size=0.3,\n",
        "    random_state=0)\n",
        "\n",
        "X_train.shape, X_test.shape"
      ],
      "metadata": {
        "colab": {
          "base_uri": "https://localhost:8080/"
        },
        "id": "tKK_xMGcLja6",
        "outputId": "4745ae9c-fdda-4d7e-e638-720f467b6f2d"
      },
      "execution_count": 7,
      "outputs": [
        {
          "output_type": "execute_result",
          "data": {
            "text/plain": [
              "((916, 3), (393, 3))"
            ]
          },
          "metadata": {},
          "execution_count": 7
        }
      ]
    },
    {
      "cell_type": "code",
      "source": [
        "# Scale the features between 0 and 1.\n",
        "\n",
        "# The scaler.\n",
        "scaler = MinMaxScaler()\n",
        "\n",
        "# Fit the scaler.\n",
        "scaler.fit(X_train)\n",
        "\n",
        "# Re-scale the datasets.\n",
        "X_train_scaled = scaler.transform(X_train)\n",
        "X_test_scaled = scaler.transform(X_test)"
      ],
      "metadata": {
        "id": "i8v5MLw2L_FW"
      },
      "execution_count": 9,
      "outputs": []
    },
    {
      "cell_type": "code",
      "source": [
        "# Let's have a look at the scaled training set.\n",
        "\n",
        "print('Mean: ', X_train_scaled.mean(axis=0))\n",
        "print('Standard Deviation: ', X_train_scaled.std(axis=0))\n",
        "print('Minimum value: ', X_train_scaled.min(axis=0))\n",
        "print('Maximum value: ', X_train_scaled.max(axis=0))"
      ],
      "metadata": {
        "colab": {
          "base_uri": "https://localhost:8080/"
        },
        "id": "9hF2rpW9MEvE",
        "outputId": "ec59f9f8-679e-4419-c9f0-388a953d7e4b"
      },
      "execution_count": 10,
      "outputs": [
        {
          "output_type": "stream",
          "name": "stdout",
          "text": [
            "Mean:  [0.64628821 0.33048359 0.06349833]\n",
            "Standard Deviation:  [0.42105785 0.23332045 0.09250036]\n",
            "Minimum value:  [0. 0. 0.]\n",
            "Maximum value:  [1. 1. 1.]\n"
          ]
        }
      ]
    },
    {
      "cell_type": "code",
      "source": [
        "# Model trained with unscaled variables.\n",
        "\n",
        "# The model.\n",
        "logit = LogisticRegression(\n",
        "    random_state=44,\n",
        "    C=1000,  # c big to avoid regularization\n",
        "    solver='lbfgs')\n",
        "\n",
        "# Train the model.\n",
        "logit.fit(X_train, y_train)\n",
        "\n",
        "# Evaluate performance.\n",
        "print('Train set')\n",
        "pred = logit.predict_proba(X_train)\n",
        "print('Logistic Regression roc-auc: {}'.format(\n",
        "    roc_auc_score(y_train, pred[:, 1])))\n",
        "print('Test set')\n",
        "pred = logit.predict_proba(X_test)\n",
        "print('Logistic Regression roc-auc: {}'.format(\n",
        "    roc_auc_score(y_test, pred[:, 1])))"
      ],
      "metadata": {
        "colab": {
          "base_uri": "https://localhost:8080/"
        },
        "id": "Od61hJBDMtQP",
        "outputId": "3053f016-95e5-4d1f-b8f1-bd48c1066855"
      },
      "execution_count": 11,
      "outputs": [
        {
          "output_type": "stream",
          "name": "stdout",
          "text": [
            "Train set\n",
            "Logistic Regression roc-auc: 0.6793181006244372\n",
            "Test set\n",
            "Logistic Regression roc-auc: 0.7175488081411426\n"
          ]
        }
      ]
    },
    {
      "cell_type": "code",
      "source": [
        "# Let's look at the coefficients.\n",
        "logit.coef_"
      ],
      "metadata": {
        "colab": {
          "base_uri": "https://localhost:8080/"
        },
        "id": "nUGlwuIZMzRQ",
        "outputId": "b9734352-510d-4e66-e4a1-db82d23e27c0"
      },
      "execution_count": 13,
      "outputs": [
        {
          "output_type": "execute_result",
          "data": {
            "text/plain": [
              "array([[-1.42875872, -0.68293349,  2.17646757]])"
            ]
          },
          "metadata": {},
          "execution_count": 13
        }
      ]
    },
    {
      "cell_type": "code",
      "source": [
        "# Model trained with scaled variables.\n",
        "\n",
        "# The model.\n",
        "logit = LogisticRegression(\n",
        "    random_state=44,\n",
        "    C=1000,  # c big to avoid regularization\n",
        "    solver='lbfgs')\n",
        "\n",
        "# Train the model using the re-scaled data.\n",
        "logit.fit(X_train_scaled, y_train)\n",
        "\n",
        "# Evaluate performance.\n",
        "print('Train set')\n",
        "pred = logit.predict_proba(X_train_scaled)\n",
        "print('Logistic Regression roc-auc: {}'.format(\n",
        "    roc_auc_score(y_train, pred[:, 1])))\n",
        "print('Test set')\n",
        "pred = logit.predict_proba(X_test_scaled)\n",
        "print('Logistic Regression roc-auc: {}'.format(\n",
        "    roc_auc_score(y_test, pred[:, 1])))"
      ],
      "metadata": {
        "colab": {
          "base_uri": "https://localhost:8080/"
        },
        "id": "bhICbI3qNpLB",
        "outputId": "720790c7-6c09-4344-952c-1afc6fbad034"
      },
      "execution_count": 14,
      "outputs": [
        {
          "output_type": "stream",
          "name": "stdout",
          "text": [
            "Train set\n",
            "Logistic Regression roc-auc: 0.6793281640744896\n",
            "Test set\n",
            "Logistic Regression roc-auc: 0.7175488081411426\n"
          ]
        }
      ]
    },
    {
      "cell_type": "code",
      "source": [
        "# Let's look at the coefficients.\n",
        "\n",
        "logit.coef_"
      ],
      "metadata": {
        "colab": {
          "base_uri": "https://localhost:8080/"
        },
        "id": "lbP47qWSN6QF",
        "outputId": "e2f4a0f3-6c63-4110-e157-14fca0c67fd5"
      },
      "execution_count": 15,
      "outputs": [
        {
          "output_type": "execute_result",
          "data": {
            "text/plain": [
              "array([[-1.42875872, -0.68293349,  2.17646757]])"
            ]
          },
          "metadata": {},
          "execution_count": 15
        }
      ]
    },
    {
      "cell_type": "code",
      "source": [
        "#  Model trained unscaled variables.\n",
        "\n",
        "# The model.\n",
        "SVM_model = SVC(random_state=44, probability=True, gamma='auto')\n",
        "\n",
        "# Train the model.\n",
        "SVM_model.fit(X_train, y_train)\n",
        "\n",
        "# Evaluate performance.\n",
        "print('Train set')\n",
        "pred = SVM_model.predict_proba(X_train)\n",
        "print('SVM roc-auc: {}'.format(roc_auc_score(y_train, pred[:, 1])))\n",
        "print('Test set')\n",
        "pred = SVM_model.predict_proba(X_test)\n",
        "print('SVM roc-auc: {}'.format(roc_auc_score(y_test, pred[:, 1])))"
      ],
      "metadata": {
        "colab": {
          "base_uri": "https://localhost:8080/"
        },
        "id": "h7c9CuhhN9QD",
        "outputId": "1c9fcd5e-7c29-4a21-c039-94e8100faf4f"
      },
      "execution_count": 17,
      "outputs": [
        {
          "output_type": "stream",
          "name": "stdout",
          "text": [
            "Train set\n",
            "SVM roc-auc: 0.882393490960506\n",
            "Test set\n",
            "SVM roc-auc: 0.6617581992146452\n"
          ]
        }
      ]
    },
    {
      "cell_type": "code",
      "source": [
        "# Model trained with scaled variables.\n",
        "\n",
        "# The model.\n",
        "SVM_model = SVC(random_state=44, probability=True, gamma='auto')\n",
        "\n",
        "# Train the model.\n",
        "SVM_model.fit(X_train_scaled, y_train)\n",
        "\n",
        "# Evaluate performance.\n",
        "print('Train set')\n",
        "pred = SVM_model.predict_proba(X_train_scaled)\n",
        "print('SVM roc-auc: {}'.format(roc_auc_score(y_train, pred[:, 1])))\n",
        "print('Test set')\n",
        "pred = SVM_model.predict_proba(X_test_scaled)\n",
        "print('SVM roc-auc: {}'.format(roc_auc_score(y_test, pred[:, 1])))"
      ],
      "metadata": {
        "colab": {
          "base_uri": "https://localhost:8080/"
        },
        "id": "LSENbuXIRATA",
        "outputId": "50c5ba94-5611-4016-9c8b-fffbdbf67a36"
      },
      "execution_count": 18,
      "outputs": [
        {
          "output_type": "stream",
          "name": "stdout",
          "text": [
            "Train set\n",
            "SVM roc-auc: 0.6780802962679695\n",
            "Test set\n",
            "SVM roc-auc: 0.6841435761296388\n"
          ]
        }
      ]
    },
    {
      "cell_type": "code",
      "source": [
        "# Model trained with unscaled features.\n",
        "\n",
        "# The model.\n",
        "KNN = KNeighborsClassifier(n_neighbors=5)\n",
        "\n",
        "# Train the model.\n",
        "KNN.fit(X_train, y_train)\n",
        "\n",
        "# Evaluate performance.\n",
        "print('Train set')\n",
        "pred = KNN.predict_proba(X_train)\n",
        "print('KNN roc-auc: {}'.format(roc_auc_score(y_train, pred[:,1])))\n",
        "print('Test set')\n",
        "pred = KNN.predict_proba(X_test)\n",
        "print('KNN roc-auc: {}'.format(roc_auc_score(y_test, pred[:,1])))"
      ],
      "metadata": {
        "colab": {
          "base_uri": "https://localhost:8080/"
        },
        "id": "wGpkU_5PRAtA",
        "outputId": "9a0d2cb0-3bc5-47b3-f467-62195a53cfdc"
      },
      "execution_count": 19,
      "outputs": [
        {
          "output_type": "stream",
          "name": "stdout",
          "text": [
            "Train set\n",
            "KNN roc-auc: 0.8087718062383327\n",
            "Test set\n",
            "KNN roc-auc: 0.6764697749018307\n"
          ]
        }
      ]
    },
    {
      "cell_type": "code",
      "source": [
        "# Model trained with scaled data.\n",
        "\n",
        "# The model.\n",
        "KNN = KNeighborsClassifier(n_neighbors=5)\n",
        "\n",
        "# Train the model.\n",
        "KNN.fit(X_train_scaled, y_train)\n",
        "\n",
        "# Evaluate performance.\n",
        "print('Train set')\n",
        "pred = KNN.predict_proba(X_train_scaled)\n",
        "print('KNN roc-auc: {}'.format(roc_auc_score(y_train, pred[:,1])))\n",
        "print('Test set')\n",
        "pred = KNN.predict_proba(X_test_scaled)\n",
        "print('KNN roc-auc: {}'.format(roc_auc_score(y_test, pred[:,1])))"
      ],
      "metadata": {
        "colab": {
          "base_uri": "https://localhost:8080/"
        },
        "id": "78fD34NkRAx_",
        "outputId": "30f647d8-ea76-4e8b-acbc-969ec7e73ebd"
      },
      "execution_count": 20,
      "outputs": [
        {
          "output_type": "stream",
          "name": "stdout",
          "text": [
            "Train set\n",
            "KNN roc-auc: 0.8276281957743572\n",
            "Test set\n",
            "KNN roc-auc: 0.721033128698634\n"
          ]
        }
      ]
    },
    {
      "cell_type": "code",
      "source": [
        "# Model trained with unscaled features.\n",
        "\n",
        "# The model.\n",
        "rf = RandomForestClassifier(n_estimators=200, random_state=39)\n",
        "\n",
        "# Train the model.\n",
        "rf.fit(X_train, y_train)\n",
        "\n",
        "# Evaluate performance.\n",
        "print('Train set')\n",
        "pred = rf.predict_proba(X_train)\n",
        "print('Random Forests roc-auc: {}'.format(roc_auc_score(y_train, pred[:, 1])))\n",
        "print('Test set')\n",
        "pred = rf.predict_proba(X_test)\n",
        "print('Random Forests roc-auc: {}'.format(roc_auc_score(y_test, pred[:, 1])))"
      ],
      "metadata": {
        "colab": {
          "base_uri": "https://localhost:8080/"
        },
        "id": "lbKqObQoR41x",
        "outputId": "bb1b046e-af5f-49ef-bf78-21175184e0ae"
      },
      "execution_count": 21,
      "outputs": [
        {
          "output_type": "stream",
          "name": "stdout",
          "text": [
            "Train set\n",
            "Random Forests roc-auc: 0.9866810238554083\n",
            "Test set\n",
            "Random Forests roc-auc: 0.7326751838946961\n"
          ]
        }
      ]
    },
    {
      "cell_type": "code",
      "source": [
        "# Model trained with  scaled features\n",
        "\n",
        "# The model.\n",
        "rf = RandomForestClassifier(n_estimators=200, random_state=39)\n",
        "\n",
        "# Train the model.\n",
        "rf.fit(X_train_scaled, y_train)\n",
        "\n",
        "# Evaluate performance.\n",
        "print('Train set')\n",
        "pred = rf.predict_proba(X_train_scaled)\n",
        "print('Random Forests roc-auc: {}'.format(roc_auc_score(y_train, pred[:,1])))\n",
        "print('Test set')\n",
        "pred = rf.predict_proba(X_test_scaled)\n",
        "print('Random Forests roc-auc: {}'.format(roc_auc_score(y_test, pred[:,1])))"
      ],
      "metadata": {
        "colab": {
          "base_uri": "https://localhost:8080/"
        },
        "id": "ih8rg6nZR9KO",
        "outputId": "d6260ff4-d7bf-4186-e790-f1c1717e26de"
      },
      "execution_count": 22,
      "outputs": [
        {
          "output_type": "stream",
          "name": "stdout",
          "text": [
            "Train set\n",
            "Random Forests roc-auc: 0.9867917218059866\n",
            "Test set\n",
            "Random Forests roc-auc: 0.7312510370001659\n"
          ]
        }
      ]
    },
    {
      "cell_type": "code",
      "source": [
        "# Train Adaboost on non-scaled features.\n",
        "\n",
        "# Adaboost\n",
        "ada = AdaBoostClassifier(n_estimators=200, random_state=44)\n",
        "\n",
        "# Train the model.\n",
        "ada.fit(X_train, y_train)\n",
        "\n",
        "# Evaluate model performance.\n",
        "print('Train set')\n",
        "pred = ada.predict_proba(X_train)\n",
        "print('AdaBoost roc-auc: {}'.format(roc_auc_score(y_train, pred[:,1])))\n",
        "print('Test set')\n",
        "pred = ada.predict_proba(X_test)\n",
        "print('AdaBoost roc-auc: {}'.format(roc_auc_score(y_test, pred[:,1])))"
      ],
      "metadata": {
        "colab": {
          "base_uri": "https://localhost:8080/"
        },
        "id": "ku1517yjSWc9",
        "outputId": "db64736f-ea82-4353-cf40-933e5a149a72"
      },
      "execution_count": 23,
      "outputs": [
        {
          "output_type": "stream",
          "name": "stdout",
          "text": [
            "Train set\n",
            "AdaBoost roc-auc: 0.7970629821021541\n",
            "Test set\n",
            "AdaBoost roc-auc: 0.7473867595818815\n"
          ]
        }
      ]
    },
    {
      "cell_type": "code",
      "source": [
        "# Train Adaboost on scaled features.\n",
        "\n",
        "# Adaboost.\n",
        "ada = AdaBoostClassifier(n_estimators=200, random_state=44)\n",
        "\n",
        "# Train the model.\n",
        "ada.fit(X_train_scaled, y_train)\n",
        "\n",
        "# Evaluate model performance.\n",
        "print('Train set')\n",
        "pred = ada.predict_proba(X_train_scaled)\n",
        "print('AdaBoost roc-auc: {}'.format(roc_auc_score(y_train, pred[:,1])))\n",
        "print('Test set')\n",
        "pred = ada.predict_proba(X_test_scaled)\n",
        "print('AdaBoost roc-auc: {}'.format(roc_auc_score(y_test, pred[:,1])))"
      ],
      "metadata": {
        "colab": {
          "base_uri": "https://localhost:8080/"
        },
        "id": "P_0VndExSZnN",
        "outputId": "732b6098-88f4-4ed1-d587-19461f758e55"
      },
      "execution_count": 24,
      "outputs": [
        {
          "output_type": "stream",
          "name": "stdout",
          "text": [
            "Train set\n",
            "AdaBoost roc-auc: 0.7970629821021541\n",
            "Test set\n",
            "AdaBoost roc-auc: 0.7475250262706707\n"
          ]
        }
      ]
    }
  ]
}